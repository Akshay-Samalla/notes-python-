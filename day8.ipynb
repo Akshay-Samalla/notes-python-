{
 "cells": [
  {
   "cell_type": "code",
   "execution_count": 7,
   "metadata": {},
   "outputs": [
    {
     "name": "stdout",
     "output_type": "stream",
     "text": [
      "local municipal\n",
      "police trucks\n",
      "this is from navy\n",
      "navy ships\n",
      "navy visited\n"
     ]
    }
   ],
   "source": [
    "'''\n",
    "\n",
    "interfaces in python can be implemented using abstract class\n",
    "an abstract class with all abstract methods\n",
    "\n",
    "'''\n",
    "\n",
    "from abc import ABC , abstractmethod\n",
    "\n",
    "class Security(ABC):\n",
    "    @abstractmethod\n",
    "    def place_aplied():\n",
    "        pass  \n",
    "    @abstractmethod\n",
    "    def material_used():\n",
    "        pass \n",
    "    \n",
    "class Police(Security):\n",
    "    def place_aplied(self):\n",
    "        print('local municipal')\n",
    "    def material_used(self):\n",
    "        print('police trucks')\n",
    "class Navy(Security):\n",
    "    def visit(self):\n",
    "        print('navy visited')\n",
    "    def place_aplied(self):\n",
    "        print('this is from navy')\n",
    "    def material_used(self):\n",
    "        print('navy ships')\n",
    "def main():\n",
    "    police=Police()\n",
    "    police.place_aplied()\n",
    "    police.material_used()\n",
    "    \n",
    "    \n",
    "    \n",
    "    navy=Navy()\n",
    "    navy.place_aplied()\n",
    "    navy.material_used()\n",
    "    navy.visit()\n",
    "    \n",
    "main()\n"
   ]
  },
  {
   "cell_type": "markdown",
   "metadata": {},
   "source": []
  },
  {
   "cell_type": "code",
   "execution_count": 28,
   "metadata": {},
   "outputs": [
    {
     "name": "stdout",
     "output_type": "stream",
     "text": [
      "show mehtod of an interface invokeds\n"
     ]
    }
   ],
   "source": [
    "#what if we have same def in interfaces \n",
    "\n",
    "class Interface1(ABC):\n",
    "    @abstractmethod\n",
    "    def show():\n",
    "        pass    \n",
    "class Interface2(ABC):\n",
    "    def show():\n",
    "        pass \n",
    "class DerivedClass(Interface1, Interface2):\n",
    "    def show(self):\n",
    "        print('show mehtod of an interface invokeds')\n",
    "derivedclass=DerivedClass()\n",
    "derivedclass.show()"
   ]
  },
  {
   "cell_type": "code",
   "execution_count": 29,
   "metadata": {},
   "outputs": [
    {
     "name": "stdout",
     "output_type": "stream",
     "text": [
      "abstractbase constructor called\n",
      "concrete class constructor classed \n",
      "this is show method\n"
     ]
    }
   ],
   "source": [
    "class AbstractBase(ABC):\n",
    "    def __init__(self,value):\n",
    "        self.value= value \n",
    "        print('abstractbase constructor called')\n",
    "    @abstractmethod\n",
    "    def show(self):\n",
    "        pass \n",
    "class ConcreteClass(AbstractBase):\n",
    "    def __init__(self,value,extra):\n",
    "        super().__init__(value)\n",
    "        self.extra=extra \n",
    "        print('concrete class constructor classed ')\n",
    "    def show(self):\n",
    "        print('this is show method')\n",
    "concreteclass=ConcreteClass(1,3)\n",
    "concreteclass.show()"
   ]
  },
  {
   "cell_type": "code",
   "execution_count": 68,
   "metadata": {},
   "outputs": [
    {
     "name": "stdout",
     "output_type": "stream",
     "text": [
      "cmr\n",
      "name cmr\n",
      "name :e7\n",
      "e7\n",
      "sub class constructor\n",
      "name vnr\n",
      "name:  cmr\n"
     ]
    }
   ],
   "source": [
    "'''\n",
    "public self.var : accessible from anywhere \n",
    "protected self._var : accessible within the class and subclass\n",
    "private self.__var :accessible only with in the class\n",
    "\n",
    "\n",
    "'''\n",
    "\n",
    "class PublicExample:\n",
    "    def __init__(self , name):\n",
    "        self.name = name\n",
    "        \n",
    "    def display(self):\n",
    "        print(\"name\",self.name)\n",
    "publicExample= PublicExample('cmr')\n",
    "print(publicExample.name)\n",
    "publicExample.display()\n",
    "\n",
    "\n",
    "class ProtectedExample:\n",
    "    def __init__(self,name):\n",
    "        self._name=name \n",
    "    def _display(self):\n",
    "        print(f'name :{self._name}')\n",
    "protectedExample = ProtectedExample('e7')\n",
    "protectedExample._display()\n",
    "print(protectedExample._name)\n",
    "\n",
    "class SubClass(ProtectedExample):\n",
    "    def __init__(self, name):\n",
    "        super().__init__(name)\n",
    "        print('sub class constructor')\n",
    "    def show(self):\n",
    "        print('name', self._name)\n",
    "subclass= SubClass('vnr')\n",
    "subclass.show()\n",
    "\n",
    "        \n",
    "\n",
    "\n",
    "class PrivateExample:\n",
    "    def __init__(self, name):\n",
    "        self.__name=name \n",
    "    def __display(self):\n",
    "        print('name: ', self.__name)\n",
    "    def access_private(self):\n",
    "        self.__display()\n",
    "        \n",
    "        \n",
    "privateExample = PrivateExample('cmr')\n",
    "privateExample.access_private()\n",
    "\n",
    "\n"
   ]
  },
  {
   "cell_type": "code",
   "execution_count": 4,
   "metadata": {},
   "outputs": [
    {
     "name": "stdout",
     "output_type": "stream",
     "text": [
      "enter valid number\n"
     ]
    }
   ],
   "source": [
    "try:\n",
    "    age=int(input('age:'))\n",
    "    salary = 200000/20 \n",
    "    risker = salary/age  \n",
    "    print('risker',risker)\n",
    "except ValueError:\n",
    "    print('enter valid number')\n",
    "except ZeroDivisionError:\n",
    "    print('cannot divide by zero')"
   ]
  },
  {
   "cell_type": "code",
   "execution_count": 7,
   "metadata": {},
   "outputs": [
    {
     "name": "stdout",
     "output_type": "stream",
     "text": [
      "enter the net sales for \n",
      "error please enter a number for net \n"
     ]
    }
   ],
   "source": [
    "try:\n",
    "    print('enter the net sales for ')\n",
    "    previous=float(input('-prior period'))\n",
    "    current= float(input('-current period'))\n",
    "    \n",
    "    change= (current-previous) * 100/previous \n",
    "    if change>0:\n",
    "        result=f'sales increase {abs(change)}%'\n",
    "    else:\n",
    "        result=f'sales increase {abs(change)}%'\n",
    "    print(result)\n",
    "except ValueError:\n",
    "    print('error please enter a number for net sales')\n",
    "except ZeroDivisionError:\n",
    "    print('error the prior net sales cannot be zero')\n",
    "except Exception as error:\n"
   ]
  }
 ],
 "metadata": {
  "kernelspec": {
   "display_name": "Python 3",
   "language": "python",
   "name": "python3"
  },
  "language_info": {
   "codemirror_mode": {
    "name": "ipython",
    "version": 3
   },
   "file_extension": ".py",
   "mimetype": "text/x-python",
   "name": "python",
   "nbconvert_exporter": "python",
   "pygments_lexer": "ipython3",
   "version": "3.13.1"
  }
 },
 "nbformat": 4,
 "nbformat_minor": 2
}
