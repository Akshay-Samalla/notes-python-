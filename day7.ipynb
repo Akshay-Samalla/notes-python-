{
 "cells": [
  {
   "cell_type": "code",
   "execution_count": 1,
   "metadata": {},
   "outputs": [
    {
     "name": "stdout",
     "output_type": "stream",
     "text": [
      "duck is walking\n",
      "horse is running\n",
      "cat says im hungry\n"
     ]
    }
   ],
   "source": [
    "class Duck:\n",
    "    def walk(self):\n",
    "        print('duck is walking')\n",
    "class Horse:\n",
    "    def walk(self):\n",
    "        print('horse is running')\n",
    "class Cat:\n",
    "    def walk(self):\n",
    "        print('cat says im hungry')\n",
    "def myfunction(obj):\n",
    "    obj.walk()\n",
    "\n",
    "d=Duck()\n",
    "myfunction(d)\n",
    "\n",
    "h=Horse()\n",
    "myfunction(h)\n",
    "c= Cat()\n",
    "myfunction(c)"
   ]
  },
  {
   "cell_type": "code",
   "execution_count": null,
   "metadata": {},
   "outputs": [],
   "source": []
  },
  {
   "cell_type": "code",
   "execution_count": null,
   "metadata": {},
   "outputs": [],
   "source": [
    "class Duck:\n",
    "    def walk(self):\n",
    "        print('duck is walking')\n",
    "class Horse:\n",
    "    def walk(self):\n",
    "        print('horse is running')\n",
    "class Cat:\n",
    "    def walk(self):\n",
    "        print('cat says im hungry')\n",
    "def myfunction(obj):\n",
    "    if hasattr(obj,walk):\n",
    "        obj.walk()\n",
    "\n",
    "d=Duck()\n",
    "myfunction(d)\n",
    "\n",
    "h=Horse()\n",
    "myfunction(h)\n",
    "c= Cat()\n",
    "myfunction(c)"
   ]
  },
  {
   "cell_type": "code",
   "execution_count": 1,
   "metadata": {},
   "outputs": [
    {
     "ename": "ImportError",
     "evalue": "cannot import name 'abstractmetod' from 'abc' (unknown location)",
     "output_type": "error",
     "traceback": [
      "\u001b[1;31m---------------------------------------------------------------------------\u001b[0m",
      "\u001b[1;31mImportError\u001b[0m                               Traceback (most recent call last)",
      "Cell \u001b[1;32mIn[1], line 1\u001b[0m\n\u001b[1;32m----> 1\u001b[0m \u001b[38;5;28;01mfrom\u001b[39;00m\u001b[38;5;250m \u001b[39m\u001b[38;5;21;01mabc\u001b[39;00m\u001b[38;5;250m \u001b[39m\u001b[38;5;28;01mimport\u001b[39;00m ABC , abstractmetod \n\u001b[0;32m      2\u001b[0m \u001b[38;5;28;01mclass\u001b[39;00m\u001b[38;5;250m \u001b[39m\u001b[38;5;21;01mFather\u001b[39;00m():\n\u001b[0;32m      3\u001b[0m     \u001b[38;5;28;01mdef\u001b[39;00m\u001b[38;5;250m \u001b[39m\u001b[38;5;21mdisplay\u001b[39m(\u001b[38;5;28mself\u001b[39m):\n",
      "\u001b[1;31mImportError\u001b[0m: cannot import name 'abstractmetod' from 'abc' (unknown location)"
     ]
    }
   ],
   "source": [
    "from abc import ABC , abstractmetod \n",
    "class Father():\n",
    "    def display(self):\n",
    "        print('i am display from father abstract class')\n",
    "    @abstractmethod\n",
    "    def myabstractmehtod(self):\n",
    "        pass\n",
    "class Child(Father):\n",
    "    def myabstractmehtod(self):\n",
    "        print('hello from child implementing abstract mehtod of father')\n",
    "\n",
    "c=Child()\n",
    "c.myabstractmehtod()\n",
    "c.display()\n",
    "                                "
   ]
  }
 ],
 "metadata": {
  "kernelspec": {
   "display_name": "Python 3",
   "language": "python",
   "name": "python3"
  },
  "language_info": {
   "codemirror_mode": {
    "name": "ipython",
    "version": 3
   },
   "file_extension": ".py",
   "mimetype": "text/x-python",
   "name": "python",
   "nbconvert_exporter": "python",
   "pygments_lexer": "ipython3",
   "version": "3.13.1"
  }
 },
 "nbformat": 4,
 "nbformat_minor": 2
}
