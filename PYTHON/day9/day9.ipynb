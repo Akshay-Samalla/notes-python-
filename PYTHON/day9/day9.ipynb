{
 "cells": [
  {
   "cell_type": "code",
   "execution_count": 3,
   "metadata": {},
   "outputs": [],
   "source": [
    "file=open('sample.txt', 'w')\n",
    "file.write(\n",
    "    'hi , welcome to file concepts ...'\n",
    ")\n",
    "\n",
    "file.close()"
   ]
  },
  {
   "cell_type": "code",
   "execution_count": 6,
   "metadata": {},
   "outputs": [
    {
     "name": "stdout",
     "output_type": "stream",
     "text": [
      ", welcome to file concepts ...\n",
      "\n"
     ]
    }
   ],
   "source": [
    "file=open('sample.txt','r')\n",
    "file.seek(3)\n",
    "text=file.readline()\n",
    "print(text)\n",
    "file.close()"
   ]
  },
  {
   "cell_type": "code",
   "execution_count": null,
   "metadata": {},
   "outputs": [],
   "source": [
    "try:\n",
    "    file = open('newfile,txt', 'x')\n",
    "    file.write('exclusively fiel creation')\n",
    "    file.close()\n",
    "except FileExistsError:\n",
    "    print('file already exists')"
   ]
  },
  {
   "cell_type": "code",
   "execution_count": 32,
   "metadata": {},
   "outputs": [
    {
     "name": "stdout",
     "output_type": "stream",
     "text": [
      "line 1\n"
     ]
    }
   ],
   "source": [
    "with open('sample.txt','r') as file:\n",
    "    print(file.read())\n",
    "    \n",
    "    "
   ]
  },
  {
   "cell_type": "code",
   "execution_count": null,
   "metadata": {},
   "outputs": [],
   "source": [
    "'''\n",
    "\n",
    "\n",
    "\n",
    "read()\n",
    "readline() \n",
    "readlines() returns list \n",
    "write()\n",
    "writelines() writes list of strings into the file \n",
    "\n",
    "\n",
    "'''"
   ]
  },
  {
   "cell_type": "code",
   "execution_count": 40,
   "metadata": {},
   "outputs": [
    {
     "name": "stdout",
     "output_type": "stream",
     "text": [
      "file deleted succesfully\n"
     ]
    }
   ],
   "source": [
    "with open('delete_me.txt','w') as file:\n",
    "    file.write('this file will be deleted')\n",
    "import os \n",
    "if os.path.exists('delete_me.txt'):\n",
    "    os.remove('delete_me.txt')\n",
    "    print('file deleted succesfully')\n",
    "else:\n",
    "    print('file not found')\n",
    "    "
   ]
  }
 ],
 "metadata": {
  "kernelspec": {
   "display_name": "Python 3",
   "language": "python",
   "name": "python3"
  },
  "language_info": {
   "codemirror_mode": {
    "name": "ipython",
    "version": 3
   },
   "file_extension": ".py",
   "mimetype": "text/x-python",
   "name": "python",
   "nbconvert_exporter": "python",
   "pygments_lexer": "ipython3",
   "version": "3.13.1"
  }
 },
 "nbformat": 4,
 "nbformat_minor": 2
}
