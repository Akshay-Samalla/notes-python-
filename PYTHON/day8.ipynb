{
 "cells": [
  {
   "cell_type": "code",
   "execution_count": 7,
   "metadata": {},
   "outputs": [
    {
     "name": "stdout",
     "output_type": "stream",
     "text": [
      "local municipal\n",
      "police trucks\n",
      "this is from navy\n",
      "navy ships\n",
      "navy visited\n"
     ]
    }
   ],
   "source": [
    "'''\n",
    "\n",
    "interfaces in python can be implemented using abstract class\n",
    "an abstract class with all abstract methods\n",
    "\n",
    "'''\n",
    "\n",
    "from abc import ABC , abstractmethod\n",
    "\n",
    "class Security(ABC):\n",
    "    @abstractmethod\n",
    "    def place_aplied():\n",
    "        pass  \n",
    "    @abstractmethod\n",
    "    def material_used():\n",
    "        pass \n",
    "    \n",
    "class Police(Security):\n",
    "    def place_aplied(self):\n",
    "        print('local municipal')\n",
    "    def material_used(self):\n",
    "        print('police trucks')\n",
    "class Navy(Security):\n",
    "    def visit(self):\n",
    "        print('navy visited')\n",
    "    def place_aplied(self):\n",
    "        print('this is from navy')\n",
    "    def material_used(self):\n",
    "        print('navy ships')\n",
    "def main():\n",
    "    police=Police()\n",
    "    police.place_aplied()\n",
    "    police.material_used()\n",
    "    \n",
    "    \n",
    "    \n",
    "    navy=Navy()\n",
    "    navy.place_aplied()\n",
    "    navy.material_used()\n",
    "    navy.visit()\n",
    "    \n",
    "main()\n"
   ]
  },
  {
   "cell_type": "markdown",
   "metadata": {},
   "source": []
  },
  {
   "cell_type": "code",
   "execution_count": 28,
   "metadata": {},
   "outputs": [
    {
     "name": "stdout",
     "output_type": "stream",
     "text": [
      "show mehtod of an interface invokeds\n"
     ]
    }
   ],
   "source": [
    "#what if we have same def in interfaces \n",
    "\n",
    "class Interface1(ABC):\n",
    "    @abstractmethod\n",
    "    def show():\n",
    "        pass    \n",
    "class Interface2(ABC):\n",
    "    def show():\n",
    "        pass \n",
    "class DerivedClass(Interface1, Interface2):\n",
    "    def show(self):\n",
    "        print('show mehtod of an interface invokeds')\n",
    "derivedclass=DerivedClass()\n",
    "derivedclass.show()"
   ]
  },
  {
   "cell_type": "code",
   "execution_count": 29,
   "metadata": {},
   "outputs": [
    {
     "name": "stdout",
     "output_type": "stream",
     "text": [
      "abstractbase constructor called\n",
      "concrete class constructor classed \n",
      "this is show method\n"
     ]
    }
   ],
   "source": [
    "class AbstractBase(ABC):\n",
    "    def __init__(self,value):\n",
    "        self.value= value \n",
    "        print('abstractbase constructor called')\n",
    "    @abstractmethod\n",
    "    def show(self):\n",
    "        pass \n",
    "class ConcreteClass(AbstractBase):\n",
    "    def __init__(self,value,extra):\n",
    "        super().__init__(value)\n",
    "        self.extra=extra \n",
    "        print('concrete class constructor classed ')\n",
    "    def show(self):\n",
    "        print('this is show method')\n",
    "concreteclass=ConcreteClass(1,3)\n",
    "concreteclass.show(  )"
   ]
  },
  {
   "cell_type": "code",
   "execution_count": 68,
   "metadata": {},
   "outputs": [
    {
     "name": "stdout",
     "output_type": "stream",
     "text": [
      "cmr\n",
      "name cmr\n",
      "name :e7\n",
      "e7\n",
      "sub class constructor\n",
      "name vnr\n",
      "name:  cmr\n"
     ]
    }
   ],
   "source": [
    "'''\n",
    "public self.var : accessible from anywhere \n",
    "protected self._var : accessible within the class and subclass\n",
    "private self.__var :accessible only with in the class\n",
    "\n",
    "\n",
    "'''\n",
    "\n",
    "class PublicExample:\n",
    "    def __init__(self , name):\n",
    "        self.name = name\n",
    "        \n",
    "    def display(self): \n",
    "        print(\"name\",self.name)\n",
    "publicExample= PublicExample('cmr')\n",
    "print(publicExample.name)\n",
    "publicExample.display()\n",
    "\n",
    "\n",
    "class ProtectedExample:\n",
    "    def __init__(self,name):\n",
    "        self._name=name \n",
    "    def _display(self):\n",
    "        print(f'name :{self._name}')\n",
    "protectedExample = ProtectedExample('e7')\n",
    "protectedExample._display()\n",
    "print(protectedExample._name)\n",
    "\n",
    "class SubClass(ProtectedExample):\n",
    "    def __init__(self, name):\n",
    "        super().__init__(name)\n",
    "        print('sub class constructor')\n",
    "    def show(self):\n",
    "        print('name', self._name)\n",
    "subclass= SubClass('vnr')\n",
    "subclass.show()\n",
    "\n",
    "        \n",
    "\n",
    "\n",
    "class PrivateExample:\n",
    "    def __init__(self, name):\n",
    "        self.__name=name \n",
    "    def __display(self):\n",
    "        print('name: ', self.__name)\n",
    "    def access_private(self):\n",
    "        self.__display()\n",
    "        \n",
    "        \n",
    "privateExample = PrivateExample('cmr')\n",
    "privateExample.access_private()\n",
    "\n",
    "\n"
   ]
  },
  {
   "cell_type": "code",
   "execution_count": 4,
   "metadata": {},
   "outputs": [
    {
     "name": "stdout",
     "output_type": "stream",
     "text": [
      "enter valid number\n"
     ]
    }
   ],
   "source": [
    "try:\n",
    "    age=int(input('age:'))\n",
    "    salary = 200000/20 \n",
    "    risker = salary/age  \n",
    "    print('risker',risker)\n",
    "except ValueError:\n",
    "    print('enter valid number')\n",
    "except ZeroDivisionError:\n",
    "    print('cannot divide by zero')"
   ]
  },
  {
   "cell_type": "code",
   "execution_count": 7,
   "metadata": {},
   "outputs": [
    {
     "name": "stdout",
     "output_type": "stream",
     "text": [
      "enter the net sales for \n",
      "error please enter a number for net \n"
     ]
    }
   ],
   "source": [
    "try:\n",
    "    print('enter the net sales for ')\n",
    "    previous=float(input('-prior period'))\n",
    "    current= float(input('-current period'))\n",
    "    \n",
    "    change= (current-previous) * 100/previous \n",
    "    if change>0:\n",
    "        result=f'sales increase {abs(change)}%'\n",
    "    else:\n",
    "        result=f'sales increase {abs(change)}%'\n",
    "    print(result)\n",
    "except ValueError:\n",
    "    print('error please enter a number for net sales')\n",
    "except ZeroDivisionError:\n",
    "    print('error the prior net sales cannot be zero')\n",
    "except Exception as error:\n"
   ]
  },
  {
   "cell_type": "code",
   "execution_count": 7,
   "metadata": {},
   "outputs": [
    {
     "name": "stdout",
     "output_type": "stream",
     "text": [
      "113285\n",
      "luna lovegood,luna lovegood is manager work,90\n",
      "weasley,developer weasley is writing code.,9943\n",
      "albus severus,developer albus severus is writing code.,0\n",
      "severus,developer severus is writing code.,90900\n",
      "potter,developer potter is writing code.,32\n",
      "granger,developer granger is writing code.,34\n",
      "weasley,developer weasley is writing code.,9943\n",
      "longbottom,longbottom is manager work,2343\n"
     ]
    }
   ],
   "source": [
    "from abc import ABC, abstractmethod\n",
    "\n",
    "class Employee(ABC):\n",
    "    \n",
    "    @abstractmethod\n",
    "    def work(self):\n",
    "        pass\n",
    "    \n",
    "    @abstractmethod\n",
    "    def get_salary(self):\n",
    "        pass\n",
    "class Manager(Employee):\n",
    "    def __init__(self,name,salary):\n",
    "        self.name= name\n",
    "        self.salary= salary\n",
    "    \n",
    "    def work(self):\n",
    "        return f\"{self.name} is manager work\"\n",
    "    \n",
    "    def get_salary(self):\n",
    "        return self.salary\n",
    "\n",
    "class Developer(Employee):\n",
    "    def __init__(self, name: str, salary: float):\n",
    "        self.name = name\n",
    "        self.salary = salary\n",
    "    \n",
    "    def work(self):\n",
    "        return f\"developer {self.name} is writing code.\"\n",
    "    \n",
    "    def get_salary(self):\n",
    "        return self.salary\n",
    "class Department:\n",
    "    def __init__(self):\n",
    "        self.employees = []\n",
    "    \n",
    "    def hire(self, employee):\n",
    "        self.employees.append(employee)\n",
    "    \n",
    "    def fire(self, employee):\n",
    "        self.employees.remove(employee)\n",
    "    \n",
    "    def get_total_salary(self):\n",
    "        return sum(employee.get_salary() for employee in self.employees)\n",
    "    \n",
    "    def show_employee_details(self):\n",
    "        for employee in self.employees:\n",
    "            print(f\"{employee.name},{employee.work()},{employee.get_salary()}\")\n",
    "            \n",
    "            \n",
    "department= Department()\n",
    "manager= Manager('luna lovegood',90)\n",
    "deverloper1= Developer('albus severus',0)\n",
    "deverloper2= Developer('severus',90900)\n",
    "deverloper3= Developer('potter',32)\n",
    "deverloper4= Developer('granger',34)\n",
    "deverloper5= Developer('weasley',9943) \n",
    "manager2= Manager('longbottom',2343)\n",
    "\n",
    "\n",
    "department.hire(manager)\n",
    "department.hire(deverloper)\n",
    "department.hire(deverloper1)\n",
    "department.hire(deverloper2)\n",
    "department.hire(deverloper3)\n",
    "department.hire(deverloper4)\n",
    "department.hire(deverloper5)\n",
    "department.hire(manager2)\n",
    "\n",
    "print(department.get_total_salary())\n",
    "department.show_employee_details()\n",
    "\n"
   ]
  },
  {
   "cell_type": "code",
   "execution_count": null,
   "metadata": {},
   "outputs": [],
   "source": []
  }
 ],
 "metadata": {
  "kernelspec": {
   "display_name": "Python 3",
   "language": "python",
   "name": "python3"
  },
  "language_info": {
   "codemirror_mode": {
    "name": "ipython",
    "version": 3
   },
   "file_extension": ".py",
   "mimetype": "text/x-python",
   "name": "python",
   "nbconvert_exporter": "python",
   "pygments_lexer": "ipython3",
   "version": "3.13.1"
  }
 },
 "nbformat": 4,
 "nbformat_minor": 2
}
