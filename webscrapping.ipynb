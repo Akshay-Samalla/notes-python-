{
 "cells": [
  {
   "cell_type": "code",
   "execution_count": 1,
   "metadata": {},
   "outputs": [
    {
     "name": "stdout",
     "output_type": "stream",
     "text": [
      "Fetched https://example.com with 1256 bytes\n",
      "Fetched https://www.python.org with 50241 bytes\n",
      "Fetched https://www.github.com with 280067 bytes\n",
      "All URLs fetched\n"
     ]
    }
   ],
   "source": [
    "\n",
    "import threading\n",
    "import requests\n",
    "\n",
    "def fetch_url(url):\n",
    "    response = requests.get(url)\n",
    "    print(f\"Fetched {url} with {len(response.content)} bytes\")\n",
    "\n",
    "urls = [\n",
    "    \"https://example.com\",\n",
    "    \"https://www.python.org\",\n",
    "    \"https://www.github.com\"\n",
    "]\n",
    "\n",
    "threads = []\n",
    "\n",
    "for url in urls:\n",
    "    thread = threading.Thread(target=fetch_url, args=(url,))\n",
    "    threads.append(thread)\n",
    "    thread.start()\n",
    "\n",
    "for thread in threads:\n",
    "    thread.join()\n",
    "\n",
    "print(\"All URLs fetched\")"
   ]
  },
  {
   "cell_type": "code",
   "execution_count": 5,
   "metadata": {},
   "outputs": [
    {
     "name": "stderr",
     "output_type": "stream",
     "text": [
      "Exception in thread Thread-22 (fetch_url):\n",
      "Traceback (most recent call last):\n",
      "  File \"c:\\Users\\aksha\\AppData\\Local\\Programs\\Python\\Python313\\Lib\\site-packages\\requests\\models.py\", line 974, in json\n",
      "    return complexjson.loads(self.text, **kwargs)\n",
      "           ~~~~~~~~~~~~~~~~~^^^^^^^^^^^^^^^^^^^^^\n",
      "  File \"c:\\Users\\aksha\\AppData\\Local\\Programs\\Python\\Python313\\Lib\\json\\__init__.py\", line 346, in loads\n",
      "    return _default_decoder.decode(s)\n",
      "           ~~~~~~~~~~~~~~~~~~~~~~~^^^\n",
      "  File \"c:\\Users\\aksha\\AppData\\Local\\Programs\\Python\\Python313\\Lib\\json\\decoder.py\", line 345, in decode\n",
      "    obj, end = self.raw_decode(s, idx=_w(s, 0).end())\n",
      "               ~~~~~~~~~~~~~~~^^^^^^^^^^^^^^^^^^^^^^^\n",
      "  File \"c:\\Users\\aksha\\AppData\\Local\\Programs\\Python\\Python313\\Lib\\json\\decoder.py\", line 363, in raw_decode\n",
      "    raise JSONDecodeError(\"Expecting value\", s, err.value) from None\n",
      "json.decoder.JSONDecodeError: Expecting value: line 1 column 1 (char 0)\n",
      "\n",
      "During handling of the above exception, another exception occurred:\n",
      "\n",
      "Traceback (most recent call last):\n",
      "  File \"c:\\Users\\aksha\\AppData\\Local\\Programs\\Python\\Python313\\Lib\\threading.py\", line 1041, in _bootstrap_inner\n",
      "    self.run()\n",
      "    ~~~~~~~~^^\n",
      "  File \"C:\\Users\\aksha\\AppData\\Roaming\\Python\\Python313\\site-packages\\ipykernel\\ipkernel.py\", line 766, in run_closure\n",
      "    _threading_Thread_run(self)\n",
      "    ~~~~~~~~~~~~~~~~~~~~~^^^^^^\n",
      "  File \"c:\\Users\\aksha\\AppData\\Local\\Programs\\Python\\Python313\\Lib\\threading.py\", line 992, in run\n",
      "    self._target(*self._args, **self._kwargs)\n",
      "    ~~~~~~~~~~~~^^^^^^^^^^^^^^^^^^^^^^^^^^^^^\n",
      "  File \"C:\\Users\\aksha\\AppData\\Local\\Temp\\ipykernel_21216\\304203212.py\", line 6, in fetch_url\n",
      "    print(response.json())\n",
      "          ~~~~~~~~~~~~~^^\n",
      "  File \"c:\\Users\\aksha\\AppData\\Local\\Programs\\Python\\Python313\\Lib\\site-packages\\requests\\models.py\", line 978, in json\n",
      "    raise RequestsJSONDecodeError(e.msg, e.doc, e.pos)\n",
      "requests.exceptions.JSONDecodeError: Expecting value: line 1 column 1 (char 0)\n",
      "Exception in thread Thread-23 (fetch_url):\n",
      "Traceback (most recent call last):\n",
      "  File \"c:\\Users\\aksha\\AppData\\Local\\Programs\\Python\\Python313\\Lib\\site-packages\\requests\\models.py\", line 974, in json\n",
      "    return complexjson.loads(self.text, **kwargs)\n",
      "           ~~~~~~~~~~~~~~~~~^^^^^^^^^^^^^^^^^^^^^\n",
      "  File \"c:\\Users\\aksha\\AppData\\Local\\Programs\\Python\\Python313\\Lib\\json\\__init__.py\", line 346, in loads\n",
      "    return _default_decoder.decode(s)\n",
      "           ~~~~~~~~~~~~~~~~~~~~~~~^^^\n",
      "  File \"c:\\Users\\aksha\\AppData\\Local\\Programs\\Python\\Python313\\Lib\\json\\decoder.py\", line 345, in decode\n",
      "    obj, end = self.raw_decode(s, idx=_w(s, 0).end())\n",
      "               ~~~~~~~~~~~~~~~^^^^^^^^^^^^^^^^^^^^^^^\n",
      "  File \"c:\\Users\\aksha\\AppData\\Local\\Programs\\Python\\Python313\\Lib\\json\\decoder.py\", line 363, in raw_decode\n",
      "    raise JSONDecodeError(\"Expecting value\", s, err.value) from None\n",
      "json.decoder.JSONDecodeError: Expecting value: line 1 column 1 (char 0)\n",
      "\n",
      "During handling of the above exception, another exception occurred:\n",
      "\n",
      "Traceback (most recent call last):\n",
      "  File \"c:\\Users\\aksha\\AppData\\Local\\Programs\\Python\\Python313\\Lib\\threading.py\", line 1041, in _bootstrap_inner\n",
      "    self.run()\n",
      "    ~~~~~~~~^^\n",
      "  File \"C:\\Users\\aksha\\AppData\\Roaming\\Python\\Python313\\site-packages\\ipykernel\\ipkernel.py\", line 766, in run_closure\n",
      "    _threading_Thread_run(self)\n",
      "    ~~~~~~~~~~~~~~~~~~~~~^^^^^^\n",
      "  File \"c:\\Users\\aksha\\AppData\\Local\\Programs\\Python\\Python313\\Lib\\threading.py\", line 992, in run\n",
      "    self._target(*self._args, **self._kwargs)\n",
      "    ~~~~~~~~~~~~^^^^^^^^^^^^^^^^^^^^^^^^^^^^^\n",
      "  File \"C:\\Users\\aksha\\AppData\\Local\\Temp\\ipykernel_21216\\304203212.py\", line 6, in fetch_url\n",
      "    print(response.json())\n",
      "          ~~~~~~~~~~~~~^^\n",
      "  File \"c:\\Users\\aksha\\AppData\\Local\\Programs\\Python\\Python313\\Lib\\site-packages\\requests\\models.py\", line 978, in json\n",
      "    raise RequestsJSONDecodeError(e.msg, e.doc, e.pos)\n",
      "requests.exceptions.JSONDecodeError: Expecting value: line 1 column 1 (char 0)\n",
      "Exception in thread Thread-24 (fetch_url):\n",
      "Traceback (most recent call last):\n",
      "  File \"c:\\Users\\aksha\\AppData\\Local\\Programs\\Python\\Python313\\Lib\\site-packages\\requests\\models.py\", line 974, in json\n",
      "    return complexjson.loads(self.text, **kwargs)\n",
      "           ~~~~~~~~~~~~~~~~~^^^^^^^^^^^^^^^^^^^^^\n",
      "  File \"c:\\Users\\aksha\\AppData\\Local\\Programs\\Python\\Python313\\Lib\\json\\__init__.py\", line 346, in loads\n",
      "    return _default_decoder.decode(s)\n",
      "           ~~~~~~~~~~~~~~~~~~~~~~~^^^\n",
      "  File \"c:\\Users\\aksha\\AppData\\Local\\Programs\\Python\\Python313\\Lib\\json\\decoder.py\", line 345, in decode\n",
      "    obj, end = self.raw_decode(s, idx=_w(s, 0).end())\n",
      "               ~~~~~~~~~~~~~~~^^^^^^^^^^^^^^^^^^^^^^^\n",
      "  File \"c:\\Users\\aksha\\AppData\\Local\\Programs\\Python\\Python313\\Lib\\json\\decoder.py\", line 363, in raw_decode\n",
      "    raise JSONDecodeError(\"Expecting value\", s, err.value) from None\n",
      "json.decoder.JSONDecodeError: Expecting value: line 9 column 1 (char 8)\n",
      "\n",
      "During handling of the above exception, another exception occurred:\n",
      "\n",
      "Traceback (most recent call last):\n",
      "  File \"c:\\Users\\aksha\\AppData\\Local\\Programs\\Python\\Python313\\Lib\\threading.py\", line 1041, in _bootstrap_inner\n",
      "    self.run()\n",
      "    ~~~~~~~~^^\n",
      "  File \"C:\\Users\\aksha\\AppData\\Roaming\\Python\\Python313\\site-packages\\ipykernel\\ipkernel.py\", line 766, in run_closure\n",
      "    _threading_Thread_run(self)\n",
      "    ~~~~~~~~~~~~~~~~~~~~~^^^^^^\n",
      "  File \"c:\\Users\\aksha\\AppData\\Local\\Programs\\Python\\Python313\\Lib\\threading.py\", line 992, in run\n",
      "    self._target(*self._args, **self._kwargs)\n",
      "    ~~~~~~~~~~~~^^^^^^^^^^^^^^^^^^^^^^^^^^^^^\n",
      "  File \"C:\\Users\\aksha\\AppData\\Local\\Temp\\ipykernel_21216\\304203212.py\", line 6, in fetch_url\n",
      "    print(response.json())\n",
      "          ~~~~~~~~~~~~~^^\n",
      "  File \"c:\\Users\\aksha\\AppData\\Local\\Programs\\Python\\Python313\\Lib\\site-packages\\requests\\models.py\", line 978, in json\n",
      "    raise RequestsJSONDecodeError(e.msg, e.doc, e.pos)\n",
      "requests.exceptions.JSONDecodeError: Expecting value: line 9 column 1 (char 8)\n"
     ]
    },
    {
     "name": "stdout",
     "output_type": "stream",
     "text": [
      "All URLs fetched\n"
     ]
    }
   ],
   "source": [
    "\n",
    "import threading\n",
    "import requests\n",
    "\n",
    "def fetch_url(url):\n",
    "    response = requests.get(url)\n",
    "    print(response.json())\n",
    "    print(f\"Fetched {url} with {len(response.content)} bytes\")\n",
    "\n",
    "urls = [\n",
    "    \"https://example.com\",\n",
    "    \"https://www.python.org\",\n",
    "    \"https://www.github.com\"\n",
    "]\n",
    "\n",
    "threads = []\n",
    "\n",
    "for url in urls:\n",
    "    thread = threading.Thread(target=fetch_url, args=(url,))\n",
    "    threads.append(thread)\n",
    "    thread.start()\n",
    "\n",
    "for thread in threads:\n",
    "    thread.join()\n",
    "\n",
    "print(\"All URLs fetched\")"
   ]
  },
  {
   "cell_type": "code",
   "execution_count": null,
   "metadata": {},
   "outputs": [],
   "source": [
    "marks_list=[i.id for i in self.marks]\n",
    "return [student for i in self.student if student.id in marks_list]\n"
   ]
  },
  {
   "cell_type": "code",
   "execution_count": 7,
   "metadata": {},
   "outputs": [
    {
     "ename": "SyntaxError",
     "evalue": "invalid non-printable character U+00A0 (1470111054.py, line 11)",
     "output_type": "error",
     "traceback": [
      "\u001b[1;36m  Cell \u001b[1;32mIn[7], line 11\u001b[1;36m\u001b[0m\n\u001b[1;33m    \u001b[0m\n\u001b[1;37m    ^\u001b[0m\n\u001b[1;31mSyntaxError\u001b[0m\u001b[1;31m:\u001b[0m invalid non-printable character U+00A0\n"
     ]
    }
   ],
   "source": [
    "from bs4 import BeautifulSoup\n",
    "import requests\n",
    "url=\"https://www.flipkart.com/search?q=mobiles&otracker=search&otracker1=search&marketplace=FLIPKART&as-show=on&as=off\"\n",
    "headers={\"user-Agent\":\"Mozilla/5.0\"}\n",
    "r=requests.get(url,headers)\n",
    "soup=BeautifulSoup(r.text,\"html.parser\")\n",
    "cnt=0\n",
    "for i in soup.select(\"div.KzDlHZ\"):\n",
    "    if cnt<5:\n",
    "        print(i.get_text(strip=True))\n",
    "        cnt+=1\n",
    "        "
   ]
  }
 ],
 "metadata": {
  "kernelspec": {
   "display_name": "Python 3",
   "language": "python",
   "name": "python3"
  },
  "language_info": {
   "codemirror_mode": {
    "name": "ipython",
    "version": 3
   },
   "file_extension": ".py",
   "mimetype": "text/x-python",
   "name": "python",
   "nbconvert_exporter": "python",
   "pygments_lexer": "ipython3",
   "version": "3.13.1"
  }
 },
 "nbformat": 4,
 "nbformat_minor": 2
}
