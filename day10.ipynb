{
 "cells": [
  {
   "cell_type": "code",
   "execution_count": null,
   "metadata": {},
   "outputs": [
    {
     "name": "stdout",
     "output_type": "stream",
     "text": [
      "task started\n",
      "task  completed\n",
      "main thread execution completed\n"
     ]
    }
   ],
   "source": [
    "import threading \n",
    "import time \n",
    "def single_task():\n",
    "    print('task started')\n",
    "    time.sleep(9)\n",
    "    print('task  completed')\n",
    "thread=threading.Thread(target=single_task)\n",
    "thread.start()\n",
    "thread.join() \n",
    "print('main thread execution completed')"
   ]
  },
  {
   "cell_type": "code",
   "execution_count": null,
   "metadata": {},
   "outputs": [
    {
     "name": "stdout",
     "output_type": "stream",
     "text": [
      "i print odd numbers task 1 - count:1\n",
      "i print even numbers task 2 -count 2\n",
      "i print odd numbers task 1 - count:3\n",
      "i print even numbers task 2 -count 4\n",
      "i print odd numbers task 1 - count:5\n",
      "i print even numbers task 2 -count 6\n",
      "i print odd numbers task 1 - count:7\n",
      "i print even numbers task 2 -count 8\n",
      "i print odd numbers task 1 - count:9\n",
      "tasks completed\n"
     ]
    }
   ],
   "source": [
    "import threading \n",
    "import time \n",
    "def task1():\n",
    "    for i in range(1,10,2):\n",
    "        print(f'i print odd numbers task 1 - count:{i}')\n",
    "        time.sleep(2)\n",
    "def task2():\n",
    "    for i in range(2,10,2):\n",
    "        print(f'i print even numbers task 2 -count {i}')\n",
    "        time.sleep(2)\n",
    "thread1=threading.Thread(target=task1)\n",
    "thread2=threading.Thread(target=task2)\n",
    "thread1.start()\n",
    "\n",
    "thread2.start()\n",
    "\n",
    "thread1.join()\n",
    "\n",
    "thread2.join()\n",
    "print('tasks completed')\n"
   ]
  },
  {
   "cell_type": "code",
   "execution_count": null,
   "metadata": {},
   "outputs": [
    {
     "name": "stdout",
     "output_type": "stream",
     "text": [
      "starting download file1.zip\n",
      "starting download file2.zip\n",
      "starting download file3.zip\n",
      "download complete: file2.zipdownload complete: file1.zip\n",
      "download complete: file3.zip\n",
      "\n",
      "all download complete\n"
     ]
    }
   ],
   "source": [
    "import threading \n",
    "import time \n",
    "def download_file(file_name):\n",
    "    print(f'starting download {file_name}')\n",
    "    time.sleep(3)\n",
    "    print(f'download complete: {file_name}')\n",
    "files = ['file1.zip','file2.zip','file3.zip']\n",
    "\n",
    "threads=[]\n",
    "for file in files:\n",
    "    thread = threading.Thread(target=download_file, args=(file,))\n",
    "    threads.append(thread)\n",
    "    thread.start()\n",
    "for thread in threads:\n",
    "    thread.join()\n",
    "print('all download complete')\n",
    "\n",
    "    "
   ]
  },
  {
   "cell_type": "code",
   "execution_count": null,
   "metadata": {},
   "outputs": [
    {
     "name": "stdout",
     "output_type": "stream",
     "text": [
      "prduced : 0\n",
      "consumed: 0\n",
      "prduced : 1\n",
      "consumed: 1\n",
      "prduced : 2\n",
      "consumed: 2\n",
      "prduced : 3\n",
      "consumed: 3\n",
      "prduced : 4consumed: 4\n",
      "\n"
     ]
    }
   ],
   "source": [
    "import threading\n",
    "import time \n",
    "import queue\n",
    "def producer(q):\n",
    "    for i in range(5):\n",
    "        time.sleep(2)\n",
    "        q.put(i)\n",
    "        print(f'prduced : {i}')\n",
    "def consumer(q):\n",
    "    while True:\n",
    "        item = q.get()\n",
    "        if item is None:\n",
    "            break \n",
    "        print(f'consumed: {item}')\n",
    "        time.sleep(2)\n",
    "q=queue.Queue()\n",
    "consumer_thread=threading.Thread(target=consumer,args=[q])\n",
    "producer_thread=threading.Thread(target=producer,args=[q])\n",
    "producer_thread.start()\n",
    "consumer_thread.start()\n",
    "\n",
    "producer_thread.join()\n",
    "\n",
    "q.put(None)\n",
    "consumer_thread.join()\n",
    "print('all completed ')\n"
   ]
  },
  {
   "cell_type": "code",
   "execution_count": 4,
   "metadata": {},
   "outputs": [
    {
     "name": "stdout",
     "output_type": "stream",
     "text": [
      "alice is trying to book a ticket...\n",
      "bob is trying to book a ticket...\n",
      "alice successfully booked a ticket ramining :0\n",
      "sorry bob, no tickets available\n"
     ]
    }
   ],
   "source": [
    "import threading \n",
    "import time \n",
    "class TicketBooking:\n",
    "    def __init__(self,available_tickets):\n",
    "        self.available_tickets = available_tickets\n",
    "        self.lock=threading.Lock()\n",
    "    def book_ticket(self,name):\n",
    "        print(f'{name} is trying to book a ticket...')\n",
    "        with self.lock:\n",
    "            if self.available_tickets>0:\n",
    "                time.sleep(1)\n",
    "                self.available_tickets -= 1\n",
    "                print(f'{name} successfully booked a ticket ramining :{self.available_tickets}') \n",
    "            else:\n",
    "                print(f'sorry {name}, no tickets available')\n",
    "                \n",
    "booking_system=TicketBooking(1)\n",
    "thread = []\n",
    "users= ['alice', 'bob']\n",
    "for user in users:\n",
    "    t= threading.Thread(target=booking_system.book_ticket,args=[user])\n",
    "    thread.append(t)\n",
    "    t.start()\n",
    "for t in thread:\n",
    "    t.join()\n",
    "    "
   ]
  },
  {
   "cell_type": "code",
   "execution_count": 9,
   "metadata": {},
   "outputs": [
    {
     "name": "stdout",
     "output_type": "stream",
     "text": [
      "daemon thread running 0main program exits, daemon thead will be killed automatically.\n",
      "\n"
     ]
    },
    {
     "name": "stdout",
     "output_type": "stream",
     "text": [
      "daemon thread running 1\n",
      "daemon thread running 2\n",
      "daemon thread running 3\n",
      "daemon thread running 4\n"
     ]
    }
   ],
   "source": [
    "import threading \n",
    "import time \n",
    "def background_task():\n",
    "    for i in range(5):\n",
    "        print(f'daemon thread running {i}')\n",
    "        time.sleep(2)\n",
    "t=threading.Thread(target=background_task , daemon=True)\n",
    "t.start()\n",
    "print('main program exits, daemon thead will be killed automatically.')"
   ]
  },
  {
   "cell_type": "code",
   "execution_count": 1,
   "metadata": {},
   "outputs": [],
   "source": [
    "import mysql.connector \n",
    "from mysql.connector import Error \n",
    "def create_connection():\n",
    "    try:\n",
    "        connection = mysql.connector.connect(\n",
    "            host='localhost',\n",
    "            user='root',\n",
    "            password='12345',\n",
    "            database='lol'\n",
    "        )\n",
    "        if connection.is_connected():\n",
    "            print('connected to mysql')\n",
    "        return connection\n",
    "    except Error as e :\n",
    "        print('error',e)\n",
    "        return None\n",
    "            \n",
    "            \n",
    "            \n",
    "            \n",
    "            \n",
    "            "
   ]
  },
  {
   "cell_type": "code",
   "execution_count": null,
   "metadata": {},
   "outputs": [],
   "source": [
    "def create_user(name, email):\n",
    "    try:\n",
    "        connection = create_connection()\n",
    "        if connection:\n",
    "            cursor = connection.cursor()\n",
    "            query = \"INSERT INTO users (name, email) VALUES (%s, %s)\"\n",
    "            cursor.execute(query, (name, email))\n",
    "            connection.commit()\n",
    "            print(\"User added successfully\")\n",
    "    except Error as e:\n",
    "        print(f\"Failed to insert record: {e}\")\n",
    "    finally:\n",
    "        if connection:\n",
    "            connection.close()\n",
    "\n",
    "\n",
    "# READ Operation\n",
    "def get_users():\n",
    "    try:\n",
    "        connection = create_connection()\n",
    "        if connection:\n",
    "            cursor = connection.cursor()\n",
    "            cursor.execute(\"SELECT * FROM users\")\n",
    "            records = cursor.fetchall()\n",
    "            for row in records:\n",
    "                print(row)\n",
    "    except Error as e:\n",
    "        print(f\"Failed to retrieve records: {e}\")\n",
    "    finally:\n",
    "        if connection:\n",
    "            connection.close()\n",
    "\n",
    "# UPDATE Operation\n",
    "def update_user(user_id, name, email):\n",
    "    try:\n",
    "        connection = create_connection()\n",
    "        if connection:\n",
    "            cursor = connection.cursor()\n",
    "            query = \"UPDATE users SET name=%s, email=%s WHERE id=%s\"\n",
    "            cursor.execute(query, (name, email, user_id))\n",
    "            connection.commit()\n",
    "            print(\"User updated successfully\")\n",
    "    except Error as e:\n",
    "        print(f\"Failed to update record: {e}\")\n",
    "    finally:\n",
    "        if connection:\n",
    "            connection.close()\n",
    "\n",
    "# DELETE Operation\n",
    "def delete_user(user_id):\n",
    "    try:\n",
    "        connection = create_connection()\n",
    "        if connection:\n",
    "            cursor = connection.cursor()\n",
    "            query = \"DELETE FROM users WHERE id=%s\"\n",
    "            cursor.execute(query, (user_id,))\n",
    "            connection.commit()\n",
    "            print(\"User deleted successfully\")\n",
    "    except Error as e:\n",
    "        print(f\"Failed to delete record: {e}\")\n",
    "    finally:\n",
    "        if connection:\n",
    "            connection.close()\n",
    "\n",
    "# Example Usage\n",
    "if __name__ == \"__main__\":\n",
    "    create_user(\"John Doe\", \"john@example.com\")\n",
    "    get_users()\n",
    "    update_user(1, \"John Smith\", \"johnsmith@example.com\")\n",
    "    delete_user(1)"
   ]
  }
 ],
 "metadata": {
  "kernelspec": {
   "display_name": "Python 3",
   "language": "python",
   "name": "python3"
  },
  "language_info": {
   "codemirror_mode": {
    "name": "ipython",
    "version": 3
   },
   "file_extension": ".py",
   "mimetype": "text/x-python",
   "name": "python",
   "nbconvert_exporter": "python",
   "pygments_lexer": "ipython3",
   "version": "3.13.1"
  }
 },
 "nbformat": 4,
 "nbformat_minor": 2
}
